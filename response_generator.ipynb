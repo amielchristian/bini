{
 "cells": [
  {
   "cell_type": "code",
   "execution_count": null,
   "metadata": {},
   "outputs": [],
   "source": [
    "import os\n",
    "from groq import Groq\n",
    "import pandas as pd\n",
    "\n",
    "client = Groq(\n",
    "    api_key=os.environ[\"GROQ_API_KEY\"],\n",
    ")\n",
    "model = \"mixtral-8x7b-32768\"\n",
    "\n",
    "def get_response(prompt):    \n",
    "    chat_completion = client.chat.completions.create(\n",
    "        messages=[\n",
    "            {\n",
    "                \"role\": \"system\",\n",
    "                \"content\": \"You are a Tagalog-speaking AI assistant that accepts Tagalog prompts and returns Tagalog responses.\",\n",
    "            },\n",
    "            {\n",
    "                \"role\": \"user\",\n",
    "                \"content\": prompt,\n",
    "            },\n",
    "        ],\n",
    "        model=model,\n",
    "        temperature=0,\n",
    "        max_tokens=512,\n",
    "    )\n",
    "\n",
    "    return chat_completion.choices[0].message.content\n",
    "    \n",
    "df = pd.read_csv('test_unsafe.csv')\n",
    "df['response'] = None\n",
    "ctr = 0\n",
    "for index, row in df.iterrows():\n",
    "    response = get_response(row['prompt'])\n",
    "    df.at[index, 'response'] = response\n",
    "    print(response)\n",
    "    ctr += 1\n",
    "    print(ctr)\n",
    "df.to_csv(f'{model}_responses.csv')"
   ]
  },
  {
   "cell_type": "code",
   "execution_count": null,
   "metadata": {},
   "outputs": [],
   "source": [
    "df = pd.read_csv(f'{model}_responses.csv')\n",
    "df['response_safe'] = 1\n",
    "df.head()\n",
    "df.to_csv(f'{model}_responses.csv')"
   ]
  }
 ],
 "metadata": {
  "kernelspec": {
   "display_name": ".venv",
   "language": "python",
   "name": "python3"
  },
  "language_info": {
   "codemirror_mode": {
    "name": "ipython",
    "version": 3
   },
   "file_extension": ".py",
   "mimetype": "text/x-python",
   "name": "python",
   "nbconvert_exporter": "python",
   "pygments_lexer": "ipython3",
   "version": "3.12.8"
  }
 },
 "nbformat": 4,
 "nbformat_minor": 2
}
